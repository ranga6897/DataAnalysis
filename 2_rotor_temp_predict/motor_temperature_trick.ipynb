{
 "cells": [
  {
   "cell_type": "code",
   "execution_count": 1,
   "metadata": {},
   "outputs": [],
   "source": [
    "import plotly.graph_objs as go\n",
    "import matplotlib.pyplot as plt\n",
    "import sklearn\n",
    "# ^^^ pyforest auto-imports - don't write above this line\n",
    "import numpy as np\n",
    "import pandas as pd\n",
    "import plotly.express as px"
   ]
  },
  {
   "cell_type": "code",
   "execution_count": 2,
   "metadata": {},
   "outputs": [],
   "source": [
    "data = pd.read_csv('pmsm_temperature_data.csv')"
   ]
  },
  {
   "cell_type": "code",
   "execution_count": 3,
   "metadata": {},
   "outputs": [
    {
     "data": {
      "text/plain": [
       "(998070, 13)"
      ]
     },
     "execution_count": 3,
     "metadata": {},
     "output_type": "execute_result"
    }
   ],
   "source": [
    "data.shape"
   ]
  },
  {
   "cell_type": "code",
   "execution_count": 4,
   "metadata": {},
   "outputs": [
    {
     "data": {
      "text/html": [
       "<div>\n",
       "<style scoped>\n",
       "    .dataframe tbody tr th:only-of-type {\n",
       "        vertical-align: middle;\n",
       "    }\n",
       "\n",
       "    .dataframe tbody tr th {\n",
       "        vertical-align: top;\n",
       "    }\n",
       "\n",
       "    .dataframe thead th {\n",
       "        text-align: right;\n",
       "    }\n",
       "</style>\n",
       "<table border=\"1\" class=\"dataframe\">\n",
       "  <thead>\n",
       "    <tr style=\"text-align: right;\">\n",
       "      <th></th>\n",
       "      <th>ambient</th>\n",
       "      <th>coolant</th>\n",
       "      <th>u_d</th>\n",
       "      <th>u_q</th>\n",
       "      <th>motor_speed</th>\n",
       "      <th>torque</th>\n",
       "      <th>i_d</th>\n",
       "      <th>i_q</th>\n",
       "      <th>pm</th>\n",
       "      <th>stator_yoke</th>\n",
       "      <th>stator_tooth</th>\n",
       "      <th>stator_winding</th>\n",
       "      <th>profile_id</th>\n",
       "    </tr>\n",
       "  </thead>\n",
       "  <tbody>\n",
       "    <tr>\n",
       "      <th>count</th>\n",
       "      <td>998070.000000</td>\n",
       "      <td>998070.000000</td>\n",
       "      <td>998070.000000</td>\n",
       "      <td>998070.000000</td>\n",
       "      <td>998070.000000</td>\n",
       "      <td>998070.000000</td>\n",
       "      <td>998070.000000</td>\n",
       "      <td>998070.000000</td>\n",
       "      <td>998070.000000</td>\n",
       "      <td>998070.000000</td>\n",
       "      <td>998070.000000</td>\n",
       "      <td>998070.000000</td>\n",
       "      <td>998070.000000</td>\n",
       "    </tr>\n",
       "    <tr>\n",
       "      <th>mean</th>\n",
       "      <td>-0.003905</td>\n",
       "      <td>0.004723</td>\n",
       "      <td>0.004780</td>\n",
       "      <td>-0.005690</td>\n",
       "      <td>-0.006336</td>\n",
       "      <td>-0.003333</td>\n",
       "      <td>0.006043</td>\n",
       "      <td>-0.003194</td>\n",
       "      <td>-0.004396</td>\n",
       "      <td>0.000609</td>\n",
       "      <td>-0.002208</td>\n",
       "      <td>-0.003935</td>\n",
       "      <td>50.732001</td>\n",
       "    </tr>\n",
       "    <tr>\n",
       "      <th>std</th>\n",
       "      <td>0.993127</td>\n",
       "      <td>1.002423</td>\n",
       "      <td>0.997878</td>\n",
       "      <td>1.002330</td>\n",
       "      <td>1.001229</td>\n",
       "      <td>0.997907</td>\n",
       "      <td>0.998994</td>\n",
       "      <td>0.997912</td>\n",
       "      <td>0.995686</td>\n",
       "      <td>1.001049</td>\n",
       "      <td>0.999597</td>\n",
       "      <td>0.998343</td>\n",
       "      <td>22.073125</td>\n",
       "    </tr>\n",
       "    <tr>\n",
       "      <th>min</th>\n",
       "      <td>-8.573954</td>\n",
       "      <td>-1.429349</td>\n",
       "      <td>-1.655373</td>\n",
       "      <td>-1.861463</td>\n",
       "      <td>-1.371529</td>\n",
       "      <td>-3.345953</td>\n",
       "      <td>-3.245874</td>\n",
       "      <td>-3.341639</td>\n",
       "      <td>-2.631991</td>\n",
       "      <td>-1.834688</td>\n",
       "      <td>-2.066143</td>\n",
       "      <td>-2.019973</td>\n",
       "      <td>4.000000</td>\n",
       "    </tr>\n",
       "    <tr>\n",
       "      <th>25%</th>\n",
       "      <td>-0.599385</td>\n",
       "      <td>-1.037925</td>\n",
       "      <td>-0.826359</td>\n",
       "      <td>-0.927390</td>\n",
       "      <td>-0.951892</td>\n",
       "      <td>-0.266917</td>\n",
       "      <td>-0.756296</td>\n",
       "      <td>-0.257269</td>\n",
       "      <td>-0.672308</td>\n",
       "      <td>-0.747265</td>\n",
       "      <td>-0.761951</td>\n",
       "      <td>-0.725622</td>\n",
       "      <td>32.000000</td>\n",
       "    </tr>\n",
       "    <tr>\n",
       "      <th>50%</th>\n",
       "      <td>0.266157</td>\n",
       "      <td>-0.177187</td>\n",
       "      <td>0.267542</td>\n",
       "      <td>-0.099818</td>\n",
       "      <td>-0.140246</td>\n",
       "      <td>-0.187246</td>\n",
       "      <td>0.213935</td>\n",
       "      <td>-0.190076</td>\n",
       "      <td>0.094367</td>\n",
       "      <td>-0.057226</td>\n",
       "      <td>0.005085</td>\n",
       "      <td>0.006536</td>\n",
       "      <td>56.000000</td>\n",
       "    </tr>\n",
       "    <tr>\n",
       "      <th>75%</th>\n",
       "      <td>0.686675</td>\n",
       "      <td>0.650709</td>\n",
       "      <td>0.358491</td>\n",
       "      <td>0.852625</td>\n",
       "      <td>0.853584</td>\n",
       "      <td>0.547171</td>\n",
       "      <td>1.013975</td>\n",
       "      <td>0.499260</td>\n",
       "      <td>0.680691</td>\n",
       "      <td>0.697344</td>\n",
       "      <td>0.772239</td>\n",
       "      <td>0.725660</td>\n",
       "      <td>68.000000</td>\n",
       "    </tr>\n",
       "    <tr>\n",
       "      <th>max</th>\n",
       "      <td>2.967117</td>\n",
       "      <td>2.649032</td>\n",
       "      <td>2.274734</td>\n",
       "      <td>1.793498</td>\n",
       "      <td>2.024164</td>\n",
       "      <td>3.016971</td>\n",
       "      <td>1.060937</td>\n",
       "      <td>2.914185</td>\n",
       "      <td>2.917456</td>\n",
       "      <td>2.449158</td>\n",
       "      <td>2.326668</td>\n",
       "      <td>2.653781</td>\n",
       "      <td>81.000000</td>\n",
       "    </tr>\n",
       "  </tbody>\n",
       "</table>\n",
       "</div>"
      ],
      "text/plain": [
       "             ambient        coolant            u_d            u_q  \\\n",
       "count  998070.000000  998070.000000  998070.000000  998070.000000   \n",
       "mean       -0.003905       0.004723       0.004780      -0.005690   \n",
       "std         0.993127       1.002423       0.997878       1.002330   \n",
       "min        -8.573954      -1.429349      -1.655373      -1.861463   \n",
       "25%        -0.599385      -1.037925      -0.826359      -0.927390   \n",
       "50%         0.266157      -0.177187       0.267542      -0.099818   \n",
       "75%         0.686675       0.650709       0.358491       0.852625   \n",
       "max         2.967117       2.649032       2.274734       1.793498   \n",
       "\n",
       "         motor_speed         torque            i_d            i_q  \\\n",
       "count  998070.000000  998070.000000  998070.000000  998070.000000   \n",
       "mean       -0.006336      -0.003333       0.006043      -0.003194   \n",
       "std         1.001229       0.997907       0.998994       0.997912   \n",
       "min        -1.371529      -3.345953      -3.245874      -3.341639   \n",
       "25%        -0.951892      -0.266917      -0.756296      -0.257269   \n",
       "50%        -0.140246      -0.187246       0.213935      -0.190076   \n",
       "75%         0.853584       0.547171       1.013975       0.499260   \n",
       "max         2.024164       3.016971       1.060937       2.914185   \n",
       "\n",
       "                  pm    stator_yoke   stator_tooth  stator_winding  \\\n",
       "count  998070.000000  998070.000000  998070.000000   998070.000000   \n",
       "mean       -0.004396       0.000609      -0.002208       -0.003935   \n",
       "std         0.995686       1.001049       0.999597        0.998343   \n",
       "min        -2.631991      -1.834688      -2.066143       -2.019973   \n",
       "25%        -0.672308      -0.747265      -0.761951       -0.725622   \n",
       "50%         0.094367      -0.057226       0.005085        0.006536   \n",
       "75%         0.680691       0.697344       0.772239        0.725660   \n",
       "max         2.917456       2.449158       2.326668        2.653781   \n",
       "\n",
       "          profile_id  \n",
       "count  998070.000000  \n",
       "mean       50.732001  \n",
       "std        22.073125  \n",
       "min         4.000000  \n",
       "25%        32.000000  \n",
       "50%        56.000000  \n",
       "75%        68.000000  \n",
       "max        81.000000  "
      ]
     },
     "execution_count": 4,
     "metadata": {},
     "output_type": "execute_result"
    }
   ],
   "source": [
    "data.describe()"
   ]
  },
  {
   "cell_type": "code",
   "execution_count": 5,
   "metadata": {},
   "outputs": [
    {
     "data": {
      "text/html": [
       "<div>\n",
       "<style scoped>\n",
       "    .dataframe tbody tr th:only-of-type {\n",
       "        vertical-align: middle;\n",
       "    }\n",
       "\n",
       "    .dataframe tbody tr th {\n",
       "        vertical-align: top;\n",
       "    }\n",
       "\n",
       "    .dataframe thead th {\n",
       "        text-align: right;\n",
       "    }\n",
       "</style>\n",
       "<table border=\"1\" class=\"dataframe\">\n",
       "  <thead>\n",
       "    <tr style=\"text-align: right;\">\n",
       "      <th></th>\n",
       "      <th>ambient</th>\n",
       "      <th>coolant</th>\n",
       "      <th>u_d</th>\n",
       "      <th>u_q</th>\n",
       "      <th>motor_speed</th>\n",
       "      <th>torque</th>\n",
       "      <th>i_d</th>\n",
       "      <th>i_q</th>\n",
       "      <th>pm</th>\n",
       "      <th>stator_yoke</th>\n",
       "      <th>stator_tooth</th>\n",
       "      <th>stator_winding</th>\n",
       "      <th>profile_id</th>\n",
       "    </tr>\n",
       "  </thead>\n",
       "  <tbody>\n",
       "    <tr>\n",
       "      <th>0</th>\n",
       "      <td>-0.752143</td>\n",
       "      <td>-1.118446</td>\n",
       "      <td>0.327935</td>\n",
       "      <td>-1.297858</td>\n",
       "      <td>-1.222428</td>\n",
       "      <td>-0.250182</td>\n",
       "      <td>1.029572</td>\n",
       "      <td>-0.245860</td>\n",
       "      <td>-2.522071</td>\n",
       "      <td>-1.831422</td>\n",
       "      <td>-2.066143</td>\n",
       "      <td>-2.018033</td>\n",
       "      <td>4</td>\n",
       "    </tr>\n",
       "    <tr>\n",
       "      <th>1</th>\n",
       "      <td>-0.771263</td>\n",
       "      <td>-1.117021</td>\n",
       "      <td>0.329665</td>\n",
       "      <td>-1.297686</td>\n",
       "      <td>-1.222429</td>\n",
       "      <td>-0.249133</td>\n",
       "      <td>1.029509</td>\n",
       "      <td>-0.245832</td>\n",
       "      <td>-2.522418</td>\n",
       "      <td>-1.830969</td>\n",
       "      <td>-2.064859</td>\n",
       "      <td>-2.017631</td>\n",
       "      <td>4</td>\n",
       "    </tr>\n",
       "    <tr>\n",
       "      <th>2</th>\n",
       "      <td>-0.782892</td>\n",
       "      <td>-1.116681</td>\n",
       "      <td>0.332771</td>\n",
       "      <td>-1.301822</td>\n",
       "      <td>-1.222428</td>\n",
       "      <td>-0.249431</td>\n",
       "      <td>1.029448</td>\n",
       "      <td>-0.245818</td>\n",
       "      <td>-2.522673</td>\n",
       "      <td>-1.830400</td>\n",
       "      <td>-2.064073</td>\n",
       "      <td>-2.017343</td>\n",
       "      <td>4</td>\n",
       "    </tr>\n",
       "    <tr>\n",
       "      <th>3</th>\n",
       "      <td>-0.780935</td>\n",
       "      <td>-1.116764</td>\n",
       "      <td>0.333700</td>\n",
       "      <td>-1.301852</td>\n",
       "      <td>-1.222430</td>\n",
       "      <td>-0.248636</td>\n",
       "      <td>1.032845</td>\n",
       "      <td>-0.246955</td>\n",
       "      <td>-2.521639</td>\n",
       "      <td>-1.830333</td>\n",
       "      <td>-2.063137</td>\n",
       "      <td>-2.017632</td>\n",
       "      <td>4</td>\n",
       "    </tr>\n",
       "    <tr>\n",
       "      <th>4</th>\n",
       "      <td>-0.774043</td>\n",
       "      <td>-1.116775</td>\n",
       "      <td>0.335206</td>\n",
       "      <td>-1.303118</td>\n",
       "      <td>-1.222429</td>\n",
       "      <td>-0.248701</td>\n",
       "      <td>1.031807</td>\n",
       "      <td>-0.246610</td>\n",
       "      <td>-2.521900</td>\n",
       "      <td>-1.830498</td>\n",
       "      <td>-2.062795</td>\n",
       "      <td>-2.018145</td>\n",
       "      <td>4</td>\n",
       "    </tr>\n",
       "  </tbody>\n",
       "</table>\n",
       "</div>"
      ],
      "text/plain": [
       "    ambient   coolant       u_d       u_q  motor_speed    torque       i_d  \\\n",
       "0 -0.752143 -1.118446  0.327935 -1.297858    -1.222428 -0.250182  1.029572   \n",
       "1 -0.771263 -1.117021  0.329665 -1.297686    -1.222429 -0.249133  1.029509   \n",
       "2 -0.782892 -1.116681  0.332771 -1.301822    -1.222428 -0.249431  1.029448   \n",
       "3 -0.780935 -1.116764  0.333700 -1.301852    -1.222430 -0.248636  1.032845   \n",
       "4 -0.774043 -1.116775  0.335206 -1.303118    -1.222429 -0.248701  1.031807   \n",
       "\n",
       "        i_q        pm  stator_yoke  stator_tooth  stator_winding  profile_id  \n",
       "0 -0.245860 -2.522071    -1.831422     -2.066143       -2.018033           4  \n",
       "1 -0.245832 -2.522418    -1.830969     -2.064859       -2.017631           4  \n",
       "2 -0.245818 -2.522673    -1.830400     -2.064073       -2.017343           4  \n",
       "3 -0.246955 -2.521639    -1.830333     -2.063137       -2.017632           4  \n",
       "4 -0.246610 -2.521900    -1.830498     -2.062795       -2.018145           4  "
      ]
     },
     "execution_count": 5,
     "metadata": {},
     "output_type": "execute_result"
    }
   ],
   "source": [
    "data.head()"
   ]
  },
  {
   "cell_type": "code",
   "execution_count": null,
   "metadata": {},
   "outputs": [],
   "source": []
  },
  {
   "cell_type": "code",
   "execution_count": null,
   "metadata": {},
   "outputs": [],
   "source": []
  },
  {
   "cell_type": "code",
   "execution_count": null,
   "metadata": {},
   "outputs": [],
   "source": []
  },
  {
   "cell_type": "markdown",
   "metadata": {},
   "source": [
    "## Process"
   ]
  },
  {
   "cell_type": "code",
   "execution_count": 59,
   "metadata": {},
   "outputs": [
    {
     "data": {
      "text/plain": [
       "ambient           0\n",
       "coolant           0\n",
       "u_d               0\n",
       "u_q               0\n",
       "motor_speed       0\n",
       "torque            0\n",
       "i_d               0\n",
       "i_q               0\n",
       "pm                0\n",
       "stator_yoke       0\n",
       "stator_tooth      0\n",
       "stator_winding    0\n",
       "profile_id        0\n",
       "dtype: int64"
      ]
     },
     "execution_count": 59,
     "metadata": {},
     "output_type": "execute_result"
    }
   ],
   "source": [
    "data.isnull().sum()"
   ]
  },
  {
   "cell_type": "markdown",
   "metadata": {},
   "source": [
    "####  Data is anonymized and looks like scaled by some factor"
   ]
  },
  {
   "cell_type": "code",
   "execution_count": 61,
   "metadata": {},
   "outputs": [],
   "source": [
    "data_model = data.drop(columns='profile_id')"
   ]
  },
  {
   "cell_type": "code",
   "execution_count": null,
   "metadata": {},
   "outputs": [],
   "source": []
  },
  {
   "cell_type": "code",
   "execution_count": null,
   "metadata": {},
   "outputs": [],
   "source": []
  },
  {
   "cell_type": "markdown",
   "metadata": {},
   "source": [
    "## EDA"
   ]
  },
  {
   "cell_type": "code",
   "execution_count": 4,
   "metadata": {},
   "outputs": [],
   "source": [
    "import warnings\n",
    "warnings.filterwarnings('ignore')"
   ]
  },
  {
   "cell_type": "code",
   "execution_count": null,
   "metadata": {},
   "outputs": [],
   "source": [
    "plt.figure(figsize=(20, 12))\n",
    "for i,j in enumerate(data.columns[:-1]):\n",
    "    plt.subplot(3, 4, i+1)\n",
    "    \n",
    "    skew_ = np.round(data[j].skew(), 2)\n",
    "    sns.distplot(data[j], label = 'skewness = '+str(skew_))\n",
    "    \n",
    "    plt.vlines(data[j].mean(), ymin = 0, ymax =1, color = 'r')\n",
    "    plt.legend()\n",
    "plt.show()"
   ]
  },
  {
   "cell_type": "markdown",
   "metadata": {},
   "source": [
    "![dist](./img/distplots.png)"
   ]
  },
  {
   "cell_type": "markdown",
   "metadata": {},
   "source": [
    "* Our tagret(pm) looks like normally distributed.\n",
    "* Most of the attributes looks like multi-model, this may be due to profile_id.\n",
    "* Most of the attributes have skewness less than 0.5 expect ambient temp, coolant, i_d\n",
    "    > i_d(current through d axis) : this may directly related to the current through field windings but the motor used in testing is PM(permanent magnet motor) so field flux is constant but i_d may depend on voltage and load, which inturn depend on speed.\n",
    "    \n",
    "    > ambient temp and coolant temp, this may directly depend on testing scenario.\n",
    "* Stator_tooth and Stator_winding distributions looks like similar"
   ]
  },
  {
   "cell_type": "code",
   "execution_count": null,
   "metadata": {},
   "outputs": [],
   "source": [
    "counts_ = data['profile_id'].value_counts()\n",
    "\n",
    "fig = px.bar(x = counts_.index,y = counts_.values , template = 'plotly_dark', labels = {'x':'Profile_id', 'y': 'Counts'}, range_x = (0,82))\n",
    "fig.show()"
   ]
  },
  {
   "cell_type": "markdown",
   "metadata": {},
   "source": [
    "![id](./img/id_counts.png)"
   ]
  },
  {
   "cell_type": "markdown",
   "metadata": {},
   "source": [
    "#### Is profile_id is a random number or they cut some data of some profile Id's till 40 and afterwards it is continous"
   ]
  },
  {
   "cell_type": "markdown",
   "metadata": {},
   "source": []
  },
  {
   "cell_type": "markdown",
   "metadata": {},
   "source": [
    "### ***Profile Id*** does not make sense while to use in a model, bcoz each test case is given a profile id and we don't know which parameters are varying, and in actual situation we don't determine the profile_id(but still we can, assuming as classfication problem(profile_id) first and later regression(pm)).\n",
    "#### But still we can check the attribute changes in every profile id"
   ]
  },
  {
   "cell_type": "code",
   "execution_count": 19,
   "metadata": {},
   "outputs": [],
   "source": [
    "# data['profile_id'].value_counts()"
   ]
  },
  {
   "cell_type": "code",
   "execution_count": null,
   "metadata": {},
   "outputs": [],
   "source": [
    "plt.figure(figsize=(25, 40))\n",
    "for i,j in enumerate(data['profile_id'].unique()):\n",
    "    data_ = data[data['profile_id'] == j]\n",
    "    \n",
    "    plt.subplot(11,5, i + 1)\n",
    "    sns.distplot(data_['pm'],label = 'profile_id = '+str(j))\n",
    "    plt.legend()\n",
    "plt.show()"
   ]
  },
  {
   "cell_type": "markdown",
   "metadata": {},
   "source": [
    "![pm](./img/pm_dist.png)"
   ]
  },
  {
   "cell_type": "markdown",
   "metadata": {},
   "source": [
    "> I thought the distribution of pm is slightly normal, but for each test case it is a multi-modal distribution."
   ]
  },
  {
   "cell_type": "code",
   "execution_count": null,
   "metadata": {},
   "outputs": [],
   "source": []
  },
  {
   "cell_type": "code",
   "execution_count": null,
   "metadata": {},
   "outputs": [],
   "source": [
    "plt.figure(figsize=(25, 50))\n",
    "for i,j in enumerate(data['profile_id'].unique()):\n",
    "    data_ = data[data['profile_id'] == j]\n",
    "    \n",
    "    plt.subplot(11,5, i + 1)\n",
    "    sns.distplot(data_['ambient'], hist = False, label = 'ambient')\n",
    "    sns.distplot(data_['coolant'], hist = False, label = 'coolant')\n",
    "    plt.title('profile_id = '+str(j))\n",
    "    plt.legend()\n",
    "    \n",
    "plt.show()"
   ]
  },
  {
   "cell_type": "markdown",
   "metadata": {},
   "source": [
    "![am](./img/ambient_coolant.png)"
   ]
  },
  {
   "cell_type": "markdown",
   "metadata": {},
   "source": [
    "> The temp of coolant can increase if increase in heat from motor(some cases might be continous working, critical tests,high eddy currents) and also increase in ambinet temp around the motor.\n",
    "\n",
    "> As the data is anonymized, We can hypothesis that if density of ambient is greater than zero is more, then likely the density of coolant greater than zero is more.\n",
    "But only few cases follow the hypothesis."
   ]
  },
  {
   "cell_type": "code",
   "execution_count": null,
   "metadata": {},
   "outputs": [],
   "source": []
  },
  {
   "cell_type": "code",
   "execution_count": null,
   "metadata": {},
   "outputs": [],
   "source": [
    "plt.figure(figsize=(25, 55))\n",
    "for i,j in enumerate(data['profile_id'].unique()):\n",
    "    data_ = data[data['profile_id'] == j]\n",
    "    \n",
    "    plt.subplot(11,5, i + 1)\n",
    "    sns.distplot(data_['motor_speed'], hist = False, label = 'motor_speed')\n",
    "    sns.distplot(data_['torque'], hist = False, label = 'torque')\n",
    "    plt.title('profile_id = '+str(j))\n",
    "    plt.legend()\n",
    "    \n",
    "plt.show()"
   ]
  },
  {
   "cell_type": "markdown",
   "metadata": {},
   "source": [
    "![st](./img/speed_torque.png)"
   ]
  },
  {
   "cell_type": "markdown",
   "metadata": {},
   "source": [
    "> Torque and Speed are inversly proportional.\n",
    "\n",
    "> But the density plotly are slightly overlapping, which shouldn't be the case, This may be because of the axis are normalized  \n",
    "\n",
    "> The test cases from 46 to 59 follow some type of pattern and remaining won't."
   ]
  },
  {
   "cell_type": "code",
   "execution_count": null,
   "metadata": {},
   "outputs": [],
   "source": []
  },
  {
   "cell_type": "code",
   "execution_count": null,
   "metadata": {},
   "outputs": [],
   "source": [
    "plt.figure(figsize=(25, 59))\n",
    "for i,j in enumerate(data['profile_id'].unique()):\n",
    "    data_ = data[data['profile_id'] == j]\n",
    "    \n",
    "    plt.subplot(11,5, i + 1)\n",
    "    sns.distplot(data_['stator_winding'], hist = False, label = 's_winding')\n",
    "    sns.distplot(data_['stator_yoke'], hist = False, label = 's_yoke')\n",
    "    sns.distplot(data_['stator_tooth'], hist = False, label = 's_tooth')\n",
    "    plt.title('profile_id = '+str(j))\n",
    "    plt.legend()\n",
    "    \n",
    "plt.show()"
   ]
  },
  {
   "cell_type": "markdown",
   "metadata": {},
   "source": [
    "![stator](./img/stator.png)"
   ]
  },
  {
   "cell_type": "markdown",
   "metadata": {},
   "source": [
    "> We can clearly observe that Stator winding and Stator tooth are more overlapping in most of the cases than yoke. This is obivous because the winding sits in tooth. \n",
    "\n",
    "> We may have multi-colinearity if we use both winding and tooth. "
   ]
  },
  {
   "cell_type": "code",
   "execution_count": null,
   "metadata": {},
   "outputs": [],
   "source": []
  },
  {
   "cell_type": "markdown",
   "metadata": {},
   "source": [
    "#### lets Check attributes w.r.t pm in different test cases."
   ]
  },
  {
   "cell_type": "code",
   "execution_count": 63,
   "metadata": {},
   "outputs": [
    {
     "data": {
      "text/plain": [
       "ambient           0.501496\n",
       "coolant           0.430548\n",
       "u_d              -0.082564\n",
       "u_q               0.101236\n",
       "motor_speed       0.332419\n",
       "torque           -0.072905\n",
       "i_d              -0.299227\n",
       "i_q              -0.086486\n",
       "pm                1.000000\n",
       "stator_yoke       0.695014\n",
       "stator_tooth      0.768352\n",
       "stator_winding    0.729561\n",
       "profile_id        0.156735\n",
       "Name: pm, dtype: float64"
      ]
     },
     "execution_count": 63,
     "metadata": {},
     "output_type": "execute_result"
    }
   ],
   "source": [
    "data.corr()['pm']"
   ]
  },
  {
   "cell_type": "code",
   "execution_count": null,
   "metadata": {},
   "outputs": [],
   "source": [
    "fig = px.scatter(data,x = 'stator_yoke' ,y='pm',template='plotly_dark')\n",
    "fig.show()"
   ]
  },
  {
   "cell_type": "markdown",
   "metadata": {},
   "source": [
    "![yoke](./img/stator_yoke.png)"
   ]
  },
  {
   "cell_type": "code",
   "execution_count": null,
   "metadata": {},
   "outputs": [],
   "source": [
    "plt.figure(figsize=(25, 40))\n",
    "for i,j in enumerate(data['profile_id'].unique()):\n",
    "    data_ = data[data['profile_id'] == j]\n",
    "    \n",
    "    plt.subplot(11,5, i + 1)\n",
    "    plt.xticks([-2.5,-1.5,0,1.5,2.5])\n",
    "    plt.yticks([-3,-2,-1,0,1,2,3])\n",
    "    sns.regplot(x = data_['stator_yoke'] ,y=data_['pm'],label = 'profile_id = '+str(j))\n",
    "    plt.legend()\n",
    "plt.show()"
   ]
  },
  {
   "cell_type": "markdown",
   "metadata": {},
   "source": [
    "![st_pm](./img/stator_y_pm.png)"
   ]
  },
  {
   "cell_type": "markdown",
   "metadata": {},
   "source": [
    "> By looking at the above graphs we can clearly say the test cases are very distinct, Some of them are strongly positive co-related and some moderately and some are neutral(52,59)."
   ]
  },
  {
   "cell_type": "code",
   "execution_count": null,
   "metadata": {},
   "outputs": [],
   "source": []
  },
  {
   "cell_type": "code",
   "execution_count": null,
   "metadata": {},
   "outputs": [],
   "source": [
    "fig = px.scatter(data,x = 'stator_tooth' ,y='pm',template='plotly_dark')\n",
    "fig.show()"
   ]
  },
  {
   "cell_type": "markdown",
   "metadata": {},
   "source": [
    "![tooth](./img/tooth.png)"
   ]
  },
  {
   "cell_type": "code",
   "execution_count": null,
   "metadata": {},
   "outputs": [],
   "source": [
    "plt.figure(figsize=(25, 40))\n",
    "for i,j in enumerate(data['profile_id'].unique()):\n",
    "    data_ = data[data['profile_id'] == j]\n",
    "    \n",
    "    plt.subplot(11,5, i + 1)\n",
    "    plt.xticks([-2.5,-1.5,0,1.5,2.5])\n",
    "    plt.yticks([-3,-2,-1,0,1,2,3])\n",
    "    sns.regplot(x = data_['stator_tooth'] ,y=data_['pm'],label = 'profile_id = '+str(j))\n",
    "    plt.legend()\n",
    "plt.show()"
   ]
  },
  {
   "cell_type": "markdown",
   "metadata": {},
   "source": [
    "![tooth](./img/tooth_pm.png)"
   ]
  },
  {
   "cell_type": "code",
   "execution_count": null,
   "metadata": {},
   "outputs": [],
   "source": []
  },
  {
   "cell_type": "code",
   "execution_count": null,
   "metadata": {},
   "outputs": [],
   "source": []
  },
  {
   "cell_type": "code",
   "execution_count": null,
   "metadata": {},
   "outputs": [],
   "source": [
    "fig = px.scatter(data,x = 'ambient' ,y='pm',template='plotly_dark')\n",
    "fig.show()"
   ]
  },
  {
   "cell_type": "markdown",
   "metadata": {},
   "source": [
    "![ambinet](./img/ambient.png)"
   ]
  },
  {
   "cell_type": "code",
   "execution_count": null,
   "metadata": {},
   "outputs": [],
   "source": [
    "plt.figure(figsize=(25, 40))\n",
    "for i,j in enumerate(data['profile_id'].unique()):\n",
    "    data_ = data[data['profile_id'] == j]\n",
    "    \n",
    "    plt.subplot(11,5, i + 1)\n",
    "    plt.yticks([-3,-2,-1,0,1,2,3])\n",
    "    plt.xticks([-10,-5,0,2.5,5])\n",
    "    sns.regplot(x = data_['ambient'] ,y=data_['pm'], label = 'profile_id = '+str(j))\n",
    "    plt.legend()\n",
    "plt.show()"
   ]
  },
  {
   "cell_type": "markdown",
   "metadata": {},
   "source": [
    "![ambinet](./img/ambient_pm.png)"
   ]
  },
  {
   "cell_type": "markdown",
   "metadata": {},
   "source": [
    "> from above graphs we can observe that ambient temp is also a factor of testing parameters, bcoz in some test cases they are postively co-related and in some test cases they are negatively co-related."
   ]
  },
  {
   "cell_type": "code",
   "execution_count": null,
   "metadata": {},
   "outputs": [],
   "source": []
  },
  {
   "cell_type": "code",
   "execution_count": null,
   "metadata": {},
   "outputs": [],
   "source": [
    "fig = px.scatter(data,x = 'coolant' ,y='pm',template='plotly_dark')\n",
    "fig.show()"
   ]
  },
  {
   "cell_type": "markdown",
   "metadata": {},
   "source": [
    "![coolant](./img/coolant.png)"
   ]
  },
  {
   "cell_type": "code",
   "execution_count": null,
   "metadata": {},
   "outputs": [],
   "source": [
    "plt.figure(figsize=(25, 40))\n",
    "for i,j in enumerate(data['profile_id'].unique()):\n",
    "    data_ = data[data['profile_id'] == j]\n",
    "    \n",
    "    plt.subplot(11,5, i + 1)\n",
    "    plt.yticks([-3,-2,-1,0,1,2,3])\n",
    "    plt.xticks([-2,-1,0,1,2,3])\n",
    "    sns.regplot(x = data_['coolant'] ,y=data_['pm'], label = 'profile_id = '+str(j))\n",
    "    plt.legend()\n",
    "plt.show()"
   ]
  },
  {
   "cell_type": "markdown",
   "metadata": {},
   "source": [
    "![coolant](./img/coolant_pm.png)"
   ]
  },
  {
   "cell_type": "markdown",
   "metadata": {},
   "source": [
    "> We can find some pattern in pm temp and coolant temp in most of the test cases.\n",
    "\n",
    "> some of the interseting test cases to dig deeper are 51,53,62,69,78"
   ]
  },
  {
   "cell_type": "markdown",
   "metadata": {},
   "source": [
    "##### If we access the other parameters used in test cases(profile_id) we can combine similar type of tests, So we can perform better EDA"
   ]
  },
  {
   "cell_type": "code",
   "execution_count": null,
   "metadata": {},
   "outputs": [],
   "source": []
  },
  {
   "cell_type": "code",
   "execution_count": null,
   "metadata": {},
   "outputs": [],
   "source": []
  },
  {
   "cell_type": "markdown",
   "metadata": {},
   "source": [
    "## Feature-Selection"
   ]
  },
  {
   "cell_type": "markdown",
   "metadata": {},
   "source": [
    "> If we isolate some test_cases(profile_id) we may get better results while predicting pm, but for now lets consider all test cases."
   ]
  },
  {
   "cell_type": "code",
   "execution_count": 5,
   "metadata": {},
   "outputs": [],
   "source": [
    "X,Y = data.drop(columns = 'pm'), data['pm']"
   ]
  },
  {
   "cell_type": "code",
   "execution_count": 19,
   "metadata": {},
   "outputs": [
    {
     "data": {
      "text/plain": [
       "ambient           0.501496\n",
       "coolant           0.430548\n",
       "u_d              -0.082564\n",
       "u_q               0.101236\n",
       "motor_speed       0.332419\n",
       "torque           -0.072905\n",
       "i_d              -0.299227\n",
       "i_q              -0.086486\n",
       "pm                1.000000\n",
       "stator_yoke       0.695014\n",
       "stator_tooth      0.768352\n",
       "stator_winding    0.729561\n",
       "profile_id        0.156735\n",
       "Name: pm, dtype: float64"
      ]
     },
     "execution_count": 19,
     "metadata": {},
     "output_type": "execute_result"
    }
   ],
   "source": [
    "data.corr()['pm'] "
   ]
  },
  {
   "cell_type": "code",
   "execution_count": 3,
   "metadata": {},
   "outputs": [],
   "source": [
    "selected_cols = ['stator_tooth','stator_winding','stator_yoke','ambient']"
   ]
  },
  {
   "cell_type": "code",
   "execution_count": null,
   "metadata": {},
   "outputs": [],
   "source": []
  },
  {
   "cell_type": "code",
   "execution_count": 6,
   "metadata": {},
   "outputs": [],
   "source": [
    "from sklearn.feature_selection import SelectKBest\n",
    "from sklearn.feature_selection import mutual_info_regression,f_regression,f_oneway"
   ]
  },
  {
   "cell_type": "code",
   "execution_count": 11,
   "metadata": {},
   "outputs": [
    {
     "data": {
      "text/plain": [
       "SelectKBest(k='all', score_func=<function f_regression at 0x00000270AD920DC8>)"
      ]
     },
     "execution_count": 11,
     "metadata": {},
     "output_type": "execute_result"
    }
   ],
   "source": [
    "fs = SelectKBest(score_func=f_regression, k='all')\n",
    "fs.fit(X, Y)"
   ]
  },
  {
   "cell_type": "code",
   "execution_count": null,
   "metadata": {},
   "outputs": [],
   "source": [
    "fig = px.bar(x =X.columns, y = fs.scores_, template = 'plotly_dark')\n",
    "fig.show()"
   ]
  },
  {
   "cell_type": "markdown",
   "metadata": {},
   "source": [
    "![best](./img/k_best.png)"
   ]
  },
  {
   "cell_type": "code",
   "execution_count": null,
   "metadata": {},
   "outputs": [],
   "source": []
  },
  {
   "cell_type": "code",
   "execution_count": null,
   "metadata": {},
   "outputs": [],
   "source": [
    "plt.rcParams['figure.figsize'] = (15,8)"
   ]
  },
  {
   "cell_type": "code",
   "execution_count": 12,
   "metadata": {
    "colab": {},
    "colab_type": "code",
    "id": "0Eb4xoNi_fsZ"
   },
   "outputs": [],
   "source": [
    "def check_mutlicolinearity(data_x):\n",
    "    corr = data_x.corr()\n",
    "    corr = pd.DataFrame(np.tril(corr, k=-1),      # gets Lower triangular matrix\n",
    "                        columns=data_x.columns,\n",
    "                        index=data_x.columns)  \n",
    "\n",
    "    corr = corr.replace(0.000000, np.NAN)\n",
    "    count_of_total_correlation_values = corr.count().sum()\n",
    "\n",
    "    for i in [0.5, 0.6, 0.7, 0.8, 0.9]:\n",
    "        data_corr = corr[abs(corr) > i]\n",
    "        count_greater_than_thresh = data_corr.count().sum()\n",
    "        print(f'Percent Values Greater than {i} co-relation : {count_greater_than_thresh/count_of_total_correlation_values}')\n",
    "    return corr\n",
    "\n",
    "def plot_corr(threshold, corr):\n",
    "    data_corr = corr[abs(corr) > threshold]\n",
    "    sns.heatmap(data_corr, annot=True, cmap=\"YlGnBu\", center=0)\n",
    "    plt.show()"
   ]
  },
  {
   "cell_type": "code",
   "execution_count": 53,
   "metadata": {},
   "outputs": [
    {
     "name": "stdout",
     "output_type": "stream",
     "text": [
      "Percent Values Greater than 0.5 co-relation : 0.18181818181818182\n",
      "Percent Values Greater than 0.6 co-relation : 0.15151515151515152\n",
      "Percent Values Greater than 0.7 co-relation : 0.13636363636363635\n",
      "Percent Values Greater than 0.8 co-relation : 0.09090909090909091\n",
      "Percent Values Greater than 0.9 co-relation : 0.045454545454545456\n"
     ]
    }
   ],
   "source": [
    "corr = check_mutlicolinearity(X)"
   ]
  },
  {
   "cell_type": "code",
   "execution_count": null,
   "metadata": {},
   "outputs": [],
   "source": [
    "plot_corr(0.7, corr)"
   ]
  },
  {
   "cell_type": "markdown",
   "metadata": {},
   "source": [
    "![corr](./img/corr.png)"
   ]
  },
  {
   "cell_type": "markdown",
   "metadata": {},
   "source": [
    "> As torque directly depends on current through quadratic axis. r = 1 b/w torque and i_q"
   ]
  },
  {
   "cell_type": "code",
   "execution_count": null,
   "metadata": {},
   "outputs": [],
   "source": []
  },
  {
   "cell_type": "code",
   "execution_count": 64,
   "metadata": {},
   "outputs": [
    {
     "data": {
      "text/plain": [
       "ambient           0.501496\n",
       "coolant           0.430548\n",
       "u_d              -0.082564\n",
       "u_q               0.101236\n",
       "motor_speed       0.332419\n",
       "torque           -0.072905\n",
       "i_d              -0.299227\n",
       "i_q              -0.086486\n",
       "pm                1.000000\n",
       "stator_yoke       0.695014\n",
       "stator_tooth      0.768352\n",
       "stator_winding    0.729561\n",
       "profile_id        0.156735\n",
       "Name: pm, dtype: float64"
      ]
     },
     "execution_count": 64,
     "metadata": {},
     "output_type": "execute_result"
    }
   ],
   "source": [
    "data.corr()['pm']"
   ]
  },
  {
   "cell_type": "code",
   "execution_count": 48,
   "metadata": {},
   "outputs": [],
   "source": [
    "from scipy.stats import bartlett"
   ]
  },
  {
   "cell_type": "markdown",
   "metadata": {},
   "source": [
    "H0 : variance_1 = variance_2\n",
    "\n",
    "H1 : variance_1 != variance_2"
   ]
  },
  {
   "cell_type": "markdown",
   "metadata": {},
   "source": [
    "pvalue is less than 0.05. So we reject the null hypothesis and can say that variance of attribute_1 is not equal to the variance of attribute_2"
   ]
  },
  {
   "cell_type": "markdown",
   "metadata": {},
   "source": [
    "pvalue is higher than 0.05. So we fail to reject the null hypothesis and can say that we do not have enough evidence to reject the null hypothesis.                      \n",
    "So we ***do not have enough evidence*** to prove that variance of attribute_1 is not equal to the variance of attribute_2."
   ]
  },
  {
   "cell_type": "code",
   "execution_count": 49,
   "metadata": {},
   "outputs": [
    {
     "data": {
      "text/plain": [
       "BartlettResult(statistic=3.123727655647656e-05, pvalue=0.9955406210266459)"
      ]
     },
     "execution_count": 49,
     "metadata": {},
     "output_type": "execute_result"
    }
   ],
   "source": [
    "bartlett(data['i_q'],data['torque'])  # Can remove one feature"
   ]
  },
  {
   "cell_type": "code",
   "execution_count": 57,
   "metadata": {},
   "outputs": [
    {
     "data": {
      "text/plain": [
       "BartlettResult(statistic=1.5746331070108353, pvalue=0.2095354479572652)"
      ]
     },
     "execution_count": 57,
     "metadata": {},
     "output_type": "execute_result"
    }
   ],
   "source": [
    "bartlett(data['stator_winding'],data['stator_tooth'])  # Can remove one feature , drop stator_tooth"
   ]
  },
  {
   "cell_type": "code",
   "execution_count": 56,
   "metadata": {},
   "outputs": [
    {
     "data": {
      "text/plain": [
       "BartlettResult(statistic=2.1019162222902836, pvalue=0.14711466679808885)"
      ]
     },
     "execution_count": 56,
     "metadata": {},
     "output_type": "execute_result"
    }
   ],
   "source": [
    "bartlett(data['stator_yoke'],data['stator_tooth'])  # Can remove one feature, drop stator_tooth"
   ]
  },
  {
   "cell_type": "code",
   "execution_count": 52,
   "metadata": {},
   "outputs": [
    {
     "data": {
      "text/plain": [
       "BartlettResult(statistic=1.8783254296993863, pvalue=0.17052459568439993)"
      ]
     },
     "execution_count": 52,
     "metadata": {},
     "output_type": "execute_result"
    }
   ],
   "source": [
    "bartlett(data['stator_yoke'],data['coolant'])  # Can remove one feature, but lets keep both"
   ]
  },
  {
   "cell_type": "code",
   "execution_count": 59,
   "metadata": {},
   "outputs": [
    {
     "data": {
      "text/plain": [
       "BartlettResult(statistic=0.0008074491427044544, pvalue=0.9773306426583245)"
      ]
     },
     "execution_count": 59,
     "metadata": {},
     "output_type": "execute_result"
    }
   ],
   "source": [
    "bartlett(data['torque'],data['u_d'])  # Can remove one feature, drop torque"
   ]
  },
  {
   "cell_type": "code",
   "execution_count": 62,
   "metadata": {},
   "outputs": [
    {
     "data": {
      "text/plain": [
       "BartlettResult(statistic=4.984344546843803, pvalue=0.025577672900163786)"
      ]
     },
     "execution_count": 62,
     "metadata": {},
     "output_type": "execute_result"
    }
   ],
   "source": [
    "bartlett(data['i_d'],data['motor_speed'])  # keep both"
   ]
  },
  {
   "cell_type": "code",
   "execution_count": 63,
   "metadata": {},
   "outputs": [
    {
     "data": {
      "text/plain": [
       "BartlettResult(statistic=11.218278606857885, pvalue=0.0008099558901449078)"
      ]
     },
     "execution_count": 63,
     "metadata": {},
     "output_type": "execute_result"
    }
   ],
   "source": [
    "bartlett(data['u_d'],data['motor_speed'])  # keep both"
   ]
  },
  {
   "cell_type": "code",
   "execution_count": null,
   "metadata": {},
   "outputs": [],
   "source": []
  },
  {
   "cell_type": "code",
   "execution_count": null,
   "metadata": {},
   "outputs": [],
   "source": []
  },
  {
   "cell_type": "code",
   "execution_count": null,
   "metadata": {},
   "outputs": [],
   "source": []
  },
  {
   "cell_type": "code",
   "execution_count": null,
   "metadata": {},
   "outputs": [],
   "source": []
  },
  {
   "cell_type": "markdown",
   "metadata": {},
   "source": [
    "## Modelling"
   ]
  },
  {
   "cell_type": "code",
   "execution_count": 73,
   "metadata": {},
   "outputs": [],
   "source": [
    "from sklearn.linear_model import LinearRegression\n",
    "from sklearn.neighbors import KNeighborsRegressor\n",
    "from sklearn.ensemble import BaggingRegressor,AdaBoostRegressor,GradientBoostingRegressor,RandomForestRegressor,VotingRegressor\n",
    "from sklearn.model_selection import cross_val_score,GridSearchCV,KFold"
   ]
  },
  {
   "cell_type": "code",
   "execution_count": 72,
   "metadata": {},
   "outputs": [],
   "source": [
    "from sklearn.metrics import mean_squared_error"
   ]
  },
  {
   "cell_type": "code",
   "execution_count": 65,
   "metadata": {},
   "outputs": [],
   "source": [
    "import statsmodels.api as sm\n",
    "from statsmodels.api import add_constant"
   ]
  },
  {
   "cell_type": "code",
   "execution_count": 80,
   "metadata": {
    "colab": {},
    "colab_type": "code",
    "id": "Oce_pmf_n_kX"
   },
   "outputs": [
    {
     "data": {
      "text/html": [
       "<table class=\"simpletable\">\n",
       "<caption>OLS Regression Results</caption>\n",
       "<tr>\n",
       "  <th>Dep. Variable:</th>           <td>pm</td>        <th>  R-squared:         </th>  <td>   0.774</td>  \n",
       "</tr>\n",
       "<tr>\n",
       "  <th>Model:</th>                   <td>OLS</td>       <th>  Adj. R-squared:    </th>  <td>   0.774</td>  \n",
       "</tr>\n",
       "<tr>\n",
       "  <th>Method:</th>             <td>Least Squares</td>  <th>  F-statistic:       </th>  <td>2.849e+05</td> \n",
       "</tr>\n",
       "<tr>\n",
       "  <th>Date:</th>             <td>Tue, 05 Jan 2021</td> <th>  Prob (F-statistic):</th>   <td>  0.00</td>   \n",
       "</tr>\n",
       "<tr>\n",
       "  <th>Time:</th>                 <td>23:57:30</td>     <th>  Log-Likelihood:    </th> <td>-6.6967e+05</td>\n",
       "</tr>\n",
       "<tr>\n",
       "  <th>No. Observations:</th>      <td>998070</td>      <th>  AIC:               </th>  <td>1.339e+06</td> \n",
       "</tr>\n",
       "<tr>\n",
       "  <th>Df Residuals:</th>          <td>998057</td>      <th>  BIC:               </th>  <td>1.340e+06</td> \n",
       "</tr>\n",
       "<tr>\n",
       "  <th>Df Model:</th>              <td>    12</td>      <th>                     </th>      <td> </td>     \n",
       "</tr>\n",
       "<tr>\n",
       "  <th>Covariance Type:</th>      <td>nonrobust</td>    <th>                     </th>      <td> </td>     \n",
       "</tr>\n",
       "</table>\n",
       "<table class=\"simpletable\">\n",
       "<tr>\n",
       "         <td></td>           <th>coef</th>     <th>std err</th>      <th>t</th>      <th>P>|t|</th>  <th>[0.025</th>    <th>0.975]</th>  \n",
       "</tr>\n",
       "<tr>\n",
       "  <th>const</th>          <td>    0.1210</td> <td>    0.001</td> <td>   84.511</td> <td> 0.000</td> <td>    0.118</td> <td>    0.124</td>\n",
       "</tr>\n",
       "<tr>\n",
       "  <th>ambient</th>        <td>    0.2289</td> <td>    0.001</td> <td>  392.974</td> <td> 0.000</td> <td>    0.228</td> <td>    0.230</td>\n",
       "</tr>\n",
       "<tr>\n",
       "  <th>coolant</th>        <td>   -0.2439</td> <td>    0.003</td> <td>  -80.105</td> <td> 0.000</td> <td>   -0.250</td> <td>   -0.238</td>\n",
       "</tr>\n",
       "<tr>\n",
       "  <th>u_d</th>            <td>   -0.0233</td> <td>    0.001</td> <td>  -21.653</td> <td> 0.000</td> <td>   -0.025</td> <td>   -0.021</td>\n",
       "</tr>\n",
       "<tr>\n",
       "  <th>u_q</th>            <td>   -0.3465</td> <td>    0.001</td> <td> -326.880</td> <td> 0.000</td> <td>   -0.349</td> <td>   -0.344</td>\n",
       "</tr>\n",
       "<tr>\n",
       "  <th>motor_speed</th>    <td>    0.3280</td> <td>    0.002</td> <td>  189.177</td> <td> 0.000</td> <td>    0.325</td> <td>    0.331</td>\n",
       "</tr>\n",
       "<tr>\n",
       "  <th>torque</th>         <td>    0.0540</td> <td>    0.008</td> <td>    7.004</td> <td> 0.000</td> <td>    0.039</td> <td>    0.069</td>\n",
       "</tr>\n",
       "<tr>\n",
       "  <th>i_d</th>            <td>    0.1768</td> <td>    0.001</td> <td>  125.514</td> <td> 0.000</td> <td>    0.174</td> <td>    0.180</td>\n",
       "</tr>\n",
       "<tr>\n",
       "  <th>i_q</th>            <td>   -0.0345</td> <td>    0.007</td> <td>   -4.771</td> <td> 0.000</td> <td>   -0.049</td> <td>   -0.020</td>\n",
       "</tr>\n",
       "<tr>\n",
       "  <th>stator_yoke</th>    <td>   -1.5470</td> <td>    0.009</td> <td> -164.398</td> <td> 0.000</td> <td>   -1.565</td> <td>   -1.529</td>\n",
       "</tr>\n",
       "<tr>\n",
       "  <th>stator_tooth</th>   <td>    4.5247</td> <td>    0.012</td> <td>  381.655</td> <td> 0.000</td> <td>    4.501</td> <td>    4.548</td>\n",
       "</tr>\n",
       "<tr>\n",
       "  <th>stator_winding</th> <td>   -2.2663</td> <td>    0.006</td> <td> -385.917</td> <td> 0.000</td> <td>   -2.278</td> <td>   -2.255</td>\n",
       "</tr>\n",
       "<tr>\n",
       "  <th>profile_id</th>     <td>   -0.0024</td> <td> 2.67e-05</td> <td>  -90.276</td> <td> 0.000</td> <td>   -0.002</td> <td>   -0.002</td>\n",
       "</tr>\n",
       "</table>\n",
       "<table class=\"simpletable\">\n",
       "<tr>\n",
       "  <th>Omnibus:</th>       <td>45721.267</td> <th>  Durbin-Watson:     </th>  <td>   0.002</td> \n",
       "</tr>\n",
       "<tr>\n",
       "  <th>Prob(Omnibus):</th>  <td> 0.000</td>   <th>  Jarque-Bera (JB):  </th> <td>100733.018</td>\n",
       "</tr>\n",
       "<tr>\n",
       "  <th>Skew:</th>           <td> 0.304</td>   <th>  Prob(JB):          </th>  <td>    0.00</td> \n",
       "</tr>\n",
       "<tr>\n",
       "  <th>Kurtosis:</th>       <td> 4.433</td>   <th>  Cond. No.          </th>  <td>1.84e+03</td> \n",
       "</tr>\n",
       "</table><br/><br/>Notes:<br/>[1] Standard Errors assume that the covariance matrix of the errors is correctly specified.<br/>[2] The condition number is large, 1.84e+03. This might indicate that there are<br/>strong multicollinearity or other numerical problems."
      ],
      "text/plain": [
       "<class 'statsmodels.iolib.summary.Summary'>\n",
       "\"\"\"\n",
       "                            OLS Regression Results                            \n",
       "==============================================================================\n",
       "Dep. Variable:                     pm   R-squared:                       0.774\n",
       "Model:                            OLS   Adj. R-squared:                  0.774\n",
       "Method:                 Least Squares   F-statistic:                 2.849e+05\n",
       "Date:                Tue, 05 Jan 2021   Prob (F-statistic):               0.00\n",
       "Time:                        23:57:30   Log-Likelihood:            -6.6967e+05\n",
       "No. Observations:              998070   AIC:                         1.339e+06\n",
       "Df Residuals:                  998057   BIC:                         1.340e+06\n",
       "Df Model:                          12                                         \n",
       "Covariance Type:            nonrobust                                         \n",
       "==================================================================================\n",
       "                     coef    std err          t      P>|t|      [0.025      0.975]\n",
       "----------------------------------------------------------------------------------\n",
       "const              0.1210      0.001     84.511      0.000       0.118       0.124\n",
       "ambient            0.2289      0.001    392.974      0.000       0.228       0.230\n",
       "coolant           -0.2439      0.003    -80.105      0.000      -0.250      -0.238\n",
       "u_d               -0.0233      0.001    -21.653      0.000      -0.025      -0.021\n",
       "u_q               -0.3465      0.001   -326.880      0.000      -0.349      -0.344\n",
       "motor_speed        0.3280      0.002    189.177      0.000       0.325       0.331\n",
       "torque             0.0540      0.008      7.004      0.000       0.039       0.069\n",
       "i_d                0.1768      0.001    125.514      0.000       0.174       0.180\n",
       "i_q               -0.0345      0.007     -4.771      0.000      -0.049      -0.020\n",
       "stator_yoke       -1.5470      0.009   -164.398      0.000      -1.565      -1.529\n",
       "stator_tooth       4.5247      0.012    381.655      0.000       4.501       4.548\n",
       "stator_winding    -2.2663      0.006   -385.917      0.000      -2.278      -2.255\n",
       "profile_id        -0.0024   2.67e-05    -90.276      0.000      -0.002      -0.002\n",
       "==============================================================================\n",
       "Omnibus:                    45721.267   Durbin-Watson:                   0.002\n",
       "Prob(Omnibus):                  0.000   Jarque-Bera (JB):           100733.018\n",
       "Skew:                           0.304   Prob(JB):                         0.00\n",
       "Kurtosis:                       4.433   Cond. No.                     1.84e+03\n",
       "==============================================================================\n",
       "\n",
       "Notes:\n",
       "[1] Standard Errors assume that the covariance matrix of the errors is correctly specified.\n",
       "[2] The condition number is large, 1.84e+03. This might indicate that there are\n",
       "strong multicollinearity or other numerical problems.\n",
       "\"\"\""
      ]
     },
     "execution_count": 80,
     "metadata": {},
     "output_type": "execute_result"
    }
   ],
   "source": [
    "X_new_c=sm.add_constant(X)\n",
    "\n",
    "model2=sm.OLS(Y,X_new_c).fit()\n",
    "model2.summary()"
   ]
  },
  {
   "cell_type": "markdown",
   "metadata": {},
   "source": [
    "> Durbin-watson statistic is less than 2, so there is negative auto correlation"
   ]
  },
  {
   "cell_type": "code",
   "execution_count": 82,
   "metadata": {},
   "outputs": [
    {
     "data": {
      "text/html": [
       "<table class=\"simpletable\">\n",
       "<caption>OLS Regression Results</caption>\n",
       "<tr>\n",
       "  <th>Dep. Variable:</th>           <td>pm</td>        <th>  R-squared:         </th>  <td>   0.772</td>  \n",
       "</tr>\n",
       "<tr>\n",
       "  <th>Model:</th>                   <td>OLS</td>       <th>  Adj. R-squared:    </th>  <td>   0.772</td>  \n",
       "</tr>\n",
       "<tr>\n",
       "  <th>Method:</th>             <td>Least Squares</td>  <th>  F-statistic:       </th>  <td>3.383e+05</td> \n",
       "</tr>\n",
       "<tr>\n",
       "  <th>Date:</th>             <td>Tue, 05 Jan 2021</td> <th>  Prob (F-statistic):</th>   <td>  0.00</td>   \n",
       "</tr>\n",
       "<tr>\n",
       "  <th>Time:</th>                 <td>23:57:57</td>     <th>  Log-Likelihood:    </th> <td>-6.7373e+05</td>\n",
       "</tr>\n",
       "<tr>\n",
       "  <th>No. Observations:</th>      <td>998070</td>      <th>  AIC:               </th>  <td>1.347e+06</td> \n",
       "</tr>\n",
       "<tr>\n",
       "  <th>Df Residuals:</th>          <td>998059</td>      <th>  BIC:               </th>  <td>1.348e+06</td> \n",
       "</tr>\n",
       "<tr>\n",
       "  <th>Df Model:</th>              <td>    10</td>      <th>                     </th>      <td> </td>     \n",
       "</tr>\n",
       "<tr>\n",
       "  <th>Covariance Type:</th>      <td>nonrobust</td>    <th>                     </th>      <td> </td>     \n",
       "</tr>\n",
       "</table>\n",
       "<table class=\"simpletable\">\n",
       "<tr>\n",
       "         <td></td>           <th>coef</th>     <th>std err</th>      <th>t</th>      <th>P>|t|</th>  <th>[0.025</th>    <th>0.975]</th>  \n",
       "</tr>\n",
       "<tr>\n",
       "  <th>const</th>          <td>   -0.0010</td> <td>    0.000</td> <td>   -2.027</td> <td> 0.043</td> <td>   -0.002</td> <td> -3.2e-05</td>\n",
       "</tr>\n",
       "<tr>\n",
       "  <th>ambient</th>        <td>    0.2174</td> <td>    0.001</td> <td>  381.188</td> <td> 0.000</td> <td>    0.216</td> <td>    0.219</td>\n",
       "</tr>\n",
       "<tr>\n",
       "  <th>coolant</th>        <td>   -0.2661</td> <td>    0.003</td> <td>  -87.333</td> <td> 0.000</td> <td>   -0.272</td> <td>   -0.260</td>\n",
       "</tr>\n",
       "<tr>\n",
       "  <th>u_d</th>            <td>   -0.0363</td> <td>    0.001</td> <td>  -39.392</td> <td> 0.000</td> <td>   -0.038</td> <td>   -0.034</td>\n",
       "</tr>\n",
       "<tr>\n",
       "  <th>u_q</th>            <td>   -0.3437</td> <td>    0.001</td> <td> -323.263</td> <td> 0.000</td> <td>   -0.346</td> <td>   -0.342</td>\n",
       "</tr>\n",
       "<tr>\n",
       "  <th>motor_speed</th>    <td>    0.3330</td> <td>    0.002</td> <td>  191.996</td> <td> 0.000</td> <td>    0.330</td> <td>    0.336</td>\n",
       "</tr>\n",
       "<tr>\n",
       "  <th>i_d</th>            <td>    0.1795</td> <td>    0.001</td> <td>  129.021</td> <td> 0.000</td> <td>    0.177</td> <td>    0.182</td>\n",
       "</tr>\n",
       "<tr>\n",
       "  <th>i_q</th>            <td>    0.0163</td> <td>    0.001</td> <td>   17.536</td> <td> 0.000</td> <td>    0.015</td> <td>    0.018</td>\n",
       "</tr>\n",
       "<tr>\n",
       "  <th>stator_yoke</th>    <td>   -1.5581</td> <td>    0.009</td> <td> -164.973</td> <td> 0.000</td> <td>   -1.577</td> <td>   -1.540</td>\n",
       "</tr>\n",
       "<tr>\n",
       "  <th>stator_tooth</th>   <td>    4.5507</td> <td>    0.012</td> <td>  383.163</td> <td> 0.000</td> <td>    4.527</td> <td>    4.574</td>\n",
       "</tr>\n",
       "<tr>\n",
       "  <th>stator_winding</th> <td>   -2.2785</td> <td>    0.006</td> <td> -388.143</td> <td> 0.000</td> <td>   -2.290</td> <td>   -2.267</td>\n",
       "</tr>\n",
       "</table>\n",
       "<table class=\"simpletable\">\n",
       "<tr>\n",
       "  <th>Omnibus:</th>       <td>45736.748</td> <th>  Durbin-Watson:     </th>  <td>   0.002</td> \n",
       "</tr>\n",
       "<tr>\n",
       "  <th>Prob(Omnibus):</th>  <td> 0.000</td>   <th>  Jarque-Bera (JB):  </th> <td>106942.020</td>\n",
       "</tr>\n",
       "<tr>\n",
       "  <th>Skew:</th>           <td> 0.284</td>   <th>  Prob(JB):          </th>  <td>    0.00</td> \n",
       "</tr>\n",
       "<tr>\n",
       "  <th>Kurtosis:</th>       <td> 4.500</td>   <th>  Cond. No.          </th>  <td>    65.9</td> \n",
       "</tr>\n",
       "</table><br/><br/>Notes:<br/>[1] Standard Errors assume that the covariance matrix of the errors is correctly specified."
      ],
      "text/plain": [
       "<class 'statsmodels.iolib.summary.Summary'>\n",
       "\"\"\"\n",
       "                            OLS Regression Results                            \n",
       "==============================================================================\n",
       "Dep. Variable:                     pm   R-squared:                       0.772\n",
       "Model:                            OLS   Adj. R-squared:                  0.772\n",
       "Method:                 Least Squares   F-statistic:                 3.383e+05\n",
       "Date:                Tue, 05 Jan 2021   Prob (F-statistic):               0.00\n",
       "Time:                        23:57:57   Log-Likelihood:            -6.7373e+05\n",
       "No. Observations:              998070   AIC:                         1.347e+06\n",
       "Df Residuals:                  998059   BIC:                         1.348e+06\n",
       "Df Model:                          10                                         \n",
       "Covariance Type:            nonrobust                                         \n",
       "==================================================================================\n",
       "                     coef    std err          t      P>|t|      [0.025      0.975]\n",
       "----------------------------------------------------------------------------------\n",
       "const             -0.0010      0.000     -2.027      0.043      -0.002    -3.2e-05\n",
       "ambient            0.2174      0.001    381.188      0.000       0.216       0.219\n",
       "coolant           -0.2661      0.003    -87.333      0.000      -0.272      -0.260\n",
       "u_d               -0.0363      0.001    -39.392      0.000      -0.038      -0.034\n",
       "u_q               -0.3437      0.001   -323.263      0.000      -0.346      -0.342\n",
       "motor_speed        0.3330      0.002    191.996      0.000       0.330       0.336\n",
       "i_d                0.1795      0.001    129.021      0.000       0.177       0.182\n",
       "i_q                0.0163      0.001     17.536      0.000       0.015       0.018\n",
       "stator_yoke       -1.5581      0.009   -164.973      0.000      -1.577      -1.540\n",
       "stator_tooth       4.5507      0.012    383.163      0.000       4.527       4.574\n",
       "stator_winding    -2.2785      0.006   -388.143      0.000      -2.290      -2.267\n",
       "==============================================================================\n",
       "Omnibus:                    45736.748   Durbin-Watson:                   0.002\n",
       "Prob(Omnibus):                  0.000   Jarque-Bera (JB):           106942.020\n",
       "Skew:                           0.284   Prob(JB):                         0.00\n",
       "Kurtosis:                       4.500   Cond. No.                         65.9\n",
       "==============================================================================\n",
       "\n",
       "Notes:\n",
       "[1] Standard Errors assume that the covariance matrix of the errors is correctly specified.\n",
       "\"\"\""
      ]
     },
     "execution_count": 82,
     "metadata": {},
     "output_type": "execute_result"
    }
   ],
   "source": [
    "X_selected = X.drop(columns = ['profile_id','torque'])\n",
    "X_new=sm.add_constant(X_selected)\n",
    "\n",
    "model=sm.OLS(Y,X_new).fit()\n",
    "model.summary()"
   ]
  },
  {
   "cell_type": "code",
   "execution_count": 84,
   "metadata": {},
   "outputs": [
    {
     "data": {
      "text/plain": [
       "0.2258648737732453"
      ]
     },
     "execution_count": 84,
     "metadata": {},
     "output_type": "execute_result"
    }
   ],
   "source": [
    "train_error = mean_squared_error(Y, model.predict(X_new))\n",
    "train_error"
   ]
  },
  {
   "cell_type": "markdown",
   "metadata": {},
   "source": [
    "While using the ols to test on whole trained data in a ***range of -3 to +3***, we are getting ***mse = 0.225***"
   ]
  },
  {
   "cell_type": "code",
   "execution_count": null,
   "metadata": {},
   "outputs": [],
   "source": []
  },
  {
   "cell_type": "code",
   "execution_count": null,
   "metadata": {},
   "outputs": [],
   "source": []
  },
  {
   "cell_type": "code",
   "execution_count": null,
   "metadata": {},
   "outputs": [],
   "source": []
  },
  {
   "cell_type": "code",
   "execution_count": 6,
   "metadata": {
    "colab": {},
    "colab_type": "code",
    "id": "mmtlK0yDftJt"
   },
   "outputs": [],
   "source": [
    "# GB_bias=[]\n",
    "# GB_ve=[]\n",
    "# for n in np.arange(90,100):\n",
    "#     GB=GradientBoostingRegressor(n_estimators=n,random_state=0)\n",
    "#     scores=cross_val_score(GB,X_selected,Y,cv=3,scoring='neg_mean_squared_error', n_jobs = 3)\n",
    "#     rmse=np.sqrt(np.abs(scores))\n",
    "#     GB_bias.append(np.mean(rmse))\n",
    "#     GB_ve.append((np.std(rmse,ddof=1)))\n",
    "\n",
    "# # x_axis=np.arange(len(GB_bias))\n",
    "# # plt.plot(x_axis,GB_bias)\n",
    "\n",
    "# np.argmin(GB_bias)"
   ]
  },
  {
   "cell_type": "code",
   "execution_count": null,
   "metadata": {},
   "outputs": [],
   "source": []
  },
  {
   "cell_type": "code",
   "execution_count": 7,
   "metadata": {
    "colab": {},
    "colab_type": "code",
    "id": "mmtlK0yDftJt"
   },
   "outputs": [],
   "source": [
    "# bias=[]\n",
    "# ve=[]\n",
    "# LR=LinearRegression()\n",
    "\n",
    "# for n in np.arange(40,60):\n",
    "#     mod=AdaBoostRegressor(base_estimator=LR,n_estimators=n,random_state=0)\n",
    "#     scores=cross_val_score(mod,X_selected,Y,cv=3,scoring='neg_mean_squared_error', n_jobs = 3)\n",
    "#     bias.append(np.mean(rmse))\n",
    "#     ve.append((np.std(rmse,ddof=1)))\n",
    "\n",
    "# # x_axis=np.arange(len(bias))\n",
    "# # plt.plot(x_axis,bias)\n",
    "\n",
    "# np.argmin(bias)"
   ]
  },
  {
   "cell_type": "code",
   "execution_count": 8,
   "metadata": {
    "colab": {
     "base_uri": "https://localhost:8080/",
     "height": 34
    },
    "colab_type": "code",
    "executionInfo": {
     "elapsed": 997,
     "status": "ok",
     "timestamp": 1591062538189,
     "user": {
      "displayName": "Mahesh Anand",
      "photoUrl": "https://lh3.googleusercontent.com/a-/AOh14GiAxRvO4nLPhI4SJLaIoUVmhr8lm1tddyCLyKOj=s64",
      "userId": "06788086636039591358"
     },
     "user_tz": -330
    },
    "id": "zuAXDszas_WG",
    "outputId": "e9e75aa5-2463-422d-f811-d75169eaae08"
   },
   "outputs": [],
   "source": [
    "# bias=[]\n",
    "# ve=[]\n",
    "# for n in np.arange(40,60):\n",
    "#     mod=AdaBoostRegressor(n_estimators=n,random_state=0)\n",
    "#     scores=cross_val_score(mod,X_selected,Y,cv=3,scoring='neg_mean_squared_error', n_jobs = 3)\n",
    "#     bias.append(np.mean(rmse))\n",
    "#     ve.append((np.std(rmse,ddof=1)))\n",
    "\n",
    "# # x_axis=np.arange(len(bias))\n",
    "# # plt.plot(x_axis,bias)\n",
    "\n",
    "# np.argmin(bias)"
   ]
  },
  {
   "cell_type": "code",
   "execution_count": null,
   "metadata": {},
   "outputs": [],
   "source": []
  },
  {
   "cell_type": "code",
   "execution_count": null,
   "metadata": {},
   "outputs": [],
   "source": []
  },
  {
   "cell_type": "code",
   "execution_count": 87,
   "metadata": {
    "colab": {},
    "colab_type": "code",
    "id": "vUWwlMjleBpq"
   },
   "outputs": [],
   "source": [
    "LR=LinearRegression()\n",
    "LR_AB=AdaBoostRegressor(base_estimator=LR,n_estimators = 100 ,random_state=0)\n",
    "DT_AB=AdaBoostRegressor(n_estimators = 50 ,random_state=0)\n",
    "LR_GB=GradientBoostingRegressor(n_estimators = 100, random_state=0)\n",
    "RF=RandomForestRegressor(criterion='mse',random_state=0)"
   ]
  },
  {
   "cell_type": "code",
   "execution_count": 88,
   "metadata": {
    "colab": {},
    "colab_type": "code",
    "id": "MsOXxC8rQr1w"
   },
   "outputs": [],
   "source": [
    "models = []\n",
    "models.append(('LinearRegression', LR))\n",
    "models.append(('Adaboost',LR_AB))\n",
    "models.append(('DT_boost',DT_AB))\n",
    "models.append(('GBoost',LR_GB))\n",
    "models.append(('RF',RF))"
   ]
  },
  {
   "cell_type": "code",
   "execution_count": 89,
   "metadata": {
    "colab": {
     "base_uri": "https://localhost:8080/",
     "height": 415
    },
    "colab_type": "code",
    "executionInfo": {
     "elapsed": 1884,
     "status": "ok",
     "timestamp": 1591701987539,
     "user": {
      "displayName": "Mahesh Anand",
      "photoUrl": "https://lh3.googleusercontent.com/a-/AOh14GiAxRvO4nLPhI4SJLaIoUVmhr8lm1tddyCLyKOj=s64",
      "userId": "06788086636039591358"
     },
     "user_tz": -330
    },
    "id": "AIjRN_8gQkEF",
    "outputId": "a865e3ed-d22d-4e37-e989-634586c79020"
   },
   "outputs": [
    {
     "name": "stdout",
     "output_type": "stream",
     "text": [
      "LinearRegression: 0.475260 (0.000616)\n",
      "Adaboost: 0.500461 (0.010645)\n",
      "DT_boost: 0.552619 (0.000956)\n",
      "GBoost: 0.398417 (0.000631)\n",
      "RF: 0.033642 (0.001383)\n"
     ]
    }
   ],
   "source": [
    "# evaluate each model in turn\n",
    "results = []\n",
    "names = []\n",
    "for name, model in models:\n",
    "    kfold = KFold(shuffle=True,n_splits=3,random_state=0)\n",
    "    cv_results = cross_val_score(model, X_selected, Y,cv=kfold, scoring='neg_mean_squared_error', n_jobs=3)\n",
    "    results.append(np.sqrt(np.abs(cv_results)))\n",
    "    names.append(name)\n",
    "    \n",
    "    print(\"%s: %f (%f)\" % (name, np.mean(np.sqrt(np.abs(cv_results))),np.std(np.sqrt(np.abs(cv_results)),ddof=1)))\n"
   ]
  },
  {
   "cell_type": "code",
   "execution_count": null,
   "metadata": {},
   "outputs": [],
   "source": []
  },
  {
   "cell_type": "code",
   "execution_count": null,
   "metadata": {},
   "outputs": [],
   "source": []
  },
  {
   "cell_type": "code",
   "execution_count": null,
   "metadata": {},
   "outputs": [],
   "source": []
  },
  {
   "cell_type": "code",
   "execution_count": 90,
   "metadata": {},
   "outputs": [
    {
     "name": "stdout",
     "output_type": "stream",
     "text": [
      "Fitting 3 folds for each of 6 candidates, totalling 18 fits\n"
     ]
    },
    {
     "name": "stderr",
     "output_type": "stream",
     "text": [
      "[Parallel(n_jobs=3)]: Using backend LokyBackend with 3 concurrent workers.\n",
      "[Parallel(n_jobs=3)]: Done  12 tasks      | elapsed:  1.7min\n",
      "[Parallel(n_jobs=3)]: Done  18 out of  18 | elapsed:  2.6min finished\n"
     ]
    },
    {
     "name": "stdout",
     "output_type": "stream",
     "text": [
      "Best Scorer-0.003927226150670194\n",
      "\n",
      "Best Parameters{'n_neighbors': 2, 'weights': 'distance'}\n"
     ]
    }
   ],
   "source": [
    "from sklearn import neighbors\n",
    "knn=neighbors.KNeighborsRegressor()\n",
    "\n",
    "param_grid={\n",
    "    'n_neighbors':np.arange(2,5),\n",
    "    'weights':['uniform', 'distance']}\n",
    "\n",
    "kfold= KFold(n_splits=3,shuffle=True,random_state=1)\n",
    "model= GridSearchCV(estimator=knn,\n",
    "                        param_grid=param_grid,\n",
    "                        scoring='neg_mean_squared_error',\n",
    "                        cv=kfold,\n",
    "                        refit=True,\n",
    "                        verbose=5,\n",
    "                        n_jobs=3)\n",
    "                        \n",
    "model.fit(X_selected,Y)\n",
    "\n",
    "print('Best Scorer{}'.format(model.best_score_))\n",
    "print()\n",
    "print('Best Parameters{}'.format(model.best_params_))"
   ]
  },
  {
   "cell_type": "code",
   "execution_count": 91,
   "metadata": {},
   "outputs": [
    {
     "data": {
      "text/html": [
       "<div>\n",
       "<style scoped>\n",
       "    .dataframe tbody tr th:only-of-type {\n",
       "        vertical-align: middle;\n",
       "    }\n",
       "\n",
       "    .dataframe tbody tr th {\n",
       "        vertical-align: top;\n",
       "    }\n",
       "\n",
       "    .dataframe thead th {\n",
       "        text-align: right;\n",
       "    }\n",
       "</style>\n",
       "<table border=\"1\" class=\"dataframe\">\n",
       "  <thead>\n",
       "    <tr style=\"text-align: right;\">\n",
       "      <th></th>\n",
       "      <th>mean_fit_time</th>\n",
       "      <th>std_fit_time</th>\n",
       "      <th>mean_score_time</th>\n",
       "      <th>std_score_time</th>\n",
       "      <th>param_n_neighbors</th>\n",
       "      <th>param_weights</th>\n",
       "      <th>params</th>\n",
       "      <th>split0_test_score</th>\n",
       "      <th>split1_test_score</th>\n",
       "      <th>split2_test_score</th>\n",
       "      <th>mean_test_score</th>\n",
       "      <th>std_test_score</th>\n",
       "      <th>rank_test_score</th>\n",
       "    </tr>\n",
       "  </thead>\n",
       "  <tbody>\n",
       "    <tr>\n",
       "      <th>1</th>\n",
       "      <td>8.791827</td>\n",
       "      <td>0.217084</td>\n",
       "      <td>12.223989</td>\n",
       "      <td>0.217746</td>\n",
       "      <td>2</td>\n",
       "      <td>distance</td>\n",
       "      <td>{'n_neighbors': 2, 'weights': 'distance'}</td>\n",
       "      <td>-0.003973</td>\n",
       "      <td>-0.003831</td>\n",
       "      <td>-0.003977</td>\n",
       "      <td>-0.003927</td>\n",
       "      <td>0.000068</td>\n",
       "      <td>1</td>\n",
       "    </tr>\n",
       "    <tr>\n",
       "      <th>0</th>\n",
       "      <td>7.421773</td>\n",
       "      <td>0.208290</td>\n",
       "      <td>11.907636</td>\n",
       "      <td>0.086642</td>\n",
       "      <td>2</td>\n",
       "      <td>uniform</td>\n",
       "      <td>{'n_neighbors': 2, 'weights': 'uniform'}</td>\n",
       "      <td>-0.004324</td>\n",
       "      <td>-0.004160</td>\n",
       "      <td>-0.004320</td>\n",
       "      <td>-0.004268</td>\n",
       "      <td>0.000077</td>\n",
       "      <td>2</td>\n",
       "    </tr>\n",
       "    <tr>\n",
       "      <th>3</th>\n",
       "      <td>13.049443</td>\n",
       "      <td>0.422002</td>\n",
       "      <td>21.197002</td>\n",
       "      <td>0.135826</td>\n",
       "      <td>3</td>\n",
       "      <td>distance</td>\n",
       "      <td>{'n_neighbors': 3, 'weights': 'distance'}</td>\n",
       "      <td>-0.004357</td>\n",
       "      <td>-0.004292</td>\n",
       "      <td>-0.004391</td>\n",
       "      <td>-0.004347</td>\n",
       "      <td>0.000041</td>\n",
       "      <td>3</td>\n",
       "    </tr>\n",
       "  </tbody>\n",
       "</table>\n",
       "</div>"
      ],
      "text/plain": [
       "   mean_fit_time  std_fit_time  mean_score_time  std_score_time  \\\n",
       "1       8.791827      0.217084        12.223989        0.217746   \n",
       "0       7.421773      0.208290        11.907636        0.086642   \n",
       "3      13.049443      0.422002        21.197002        0.135826   \n",
       "\n",
       "  param_n_neighbors param_weights                                     params  \\\n",
       "1                 2      distance  {'n_neighbors': 2, 'weights': 'distance'}   \n",
       "0                 2       uniform   {'n_neighbors': 2, 'weights': 'uniform'}   \n",
       "3                 3      distance  {'n_neighbors': 3, 'weights': 'distance'}   \n",
       "\n",
       "   split0_test_score  split1_test_score  split2_test_score  mean_test_score  \\\n",
       "1          -0.003973          -0.003831          -0.003977        -0.003927   \n",
       "0          -0.004324          -0.004160          -0.004320        -0.004268   \n",
       "3          -0.004357          -0.004292          -0.004391        -0.004347   \n",
       "\n",
       "   std_test_score  rank_test_score  \n",
       "1        0.000068                1  \n",
       "0        0.000077                2  \n",
       "3        0.000041                3  "
      ]
     },
     "execution_count": 91,
     "metadata": {},
     "output_type": "execute_result"
    }
   ],
   "source": [
    "res = pd.DataFrame(model.cv_results_)\n",
    "res.sort_values('rank_test_score').head(3)"
   ]
  },
  {
   "cell_type": "markdown",
   "metadata": {},
   "source": [
    "### KNeighborsRegressor gives the least bias error(0.003927) and least variance error(0.000068)"
   ]
  },
  {
   "cell_type": "code",
   "execution_count": null,
   "metadata": {},
   "outputs": [],
   "source": []
  }
 ],
 "metadata": {
  "kernelspec": {
   "display_name": "Python 3",
   "language": "python",
   "name": "python3"
  },
  "language_info": {
   "codemirror_mode": {
    "name": "ipython",
    "version": 3
   },
   "file_extension": ".py",
   "mimetype": "text/x-python",
   "name": "python",
   "nbconvert_exporter": "python",
   "pygments_lexer": "ipython3",
   "version": "3.7.7"
  }
 },
 "nbformat": 4,
 "nbformat_minor": 4
}
